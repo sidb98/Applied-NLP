{
  "cells": [
    {
      "cell_type": "markdown",
      "metadata": {
        "id": "maD-s_3crhiz"
      },
      "source": [
        "### Read training, dev and unlabeled test data"
      ]
    },
    {
      "cell_type": "markdown",
      "metadata": {
        "id": "mYXfV6ZKrhi2"
      },
      "source": [
        "The following provides a starting code (Python 3) of how to read the labeled training and dev cipher text, and unlabeled test cipher text, into lists."
      ]
    },
    {
      "cell_type": "code",
      "execution_count": 1,
      "metadata": {
        "id": "KxlW87wHrhi4"
      },
      "outputs": [],
      "source": [
        "train, dev, test = [], [], []"
      ]
    },
    {
      "cell_type": "code",
      "execution_count": 2,
      "metadata": {
        "colab": {
          "base_uri": "https://localhost:8080/"
        },
        "id": "VteML7Uarhi6",
        "outputId": "d6c174d0-ed42-4731-be83-43b50a6d804b"
      },
      "outputs": [
        {
          "output_type": "stream",
          "name": "stdout",
          "text": [
            "16220\n",
            "[[0, 'lkêcê yoúc cêêö y#êjl lw mówám Újám j Úêê# ütlk Úol lkêú z#ê ctöé8ú ówl xoóóú éê#xw#öê#c .'], [0, '6êcétlê jolêot8 zc éê#xw#öjóáê , tl zc j #jlkê# 8tcl8êcc jöÚ8ê 6wüó lkê öt668ê wx lkê #wj6 , ükê#ê lkê lkêöjltá t#wótêc j#ê lww wÚ2twoc jó6 lkê cê+oj8 éw8tltác lww cöoy .'], [0, 'tx lktc kw8t6jú öw2tê tc coééwcê6 lw Úê j ytxl , cwöêÚw6ú oóü#jééê6 tl êj#8ú , lwwm wol j88 lkê yww6 cloxx , jó6 8êxl Úêktó6 lkê á#jé ( 8tlê#j88ú ) .']]\n"
          ]
        }
      ],
      "source": [
        "for x in open('./train_enc.tsv', encoding='utf-8'):\n",
        "    x = x.rstrip('\\n\\r').split('\\t')\n",
        "    # x[0] will be the label (0 or 1), and x[1] will be the ciphertext sentence.\n",
        "    x[0] = int(x[0]) \n",
        "    #print(x)\n",
        "    train.append(x)\n",
        "print (len(train))\n",
        "print (train[:3])"
      ]
    },
    {
      "cell_type": "code",
      "execution_count": 3,
      "metadata": {
        "colab": {
          "base_uri": "https://localhost:8080/"
        },
        "id": "ZTSnmwW8rhi8",
        "outputId": "063de161-85ae-4281-f7d4-cc023b3153ce"
      },
      "outputs": [
        {
          "output_type": "stream",
          "name": "stdout",
          "text": [
            "2027\n",
            "[[1, 'ów8jó Ú#j2ê8ú l#êj6c ükê#ê xêü jöê#tájó xt8öc 6j#ê lw 6ê82ê 77 tólw lkê üw#86 wx jöÚt2j8êóáê jó6 jöÚtyotlú <<<'], [0, 'ê2êó öo#ékú zc ê+éê#l áwötá ltötóy jó6 xjöê6 ákj#tcöj áj ózl #êcáoê lktc êxxw#l .'], [1, 'üt88 jcco#ê68ú #jóm jc wóê wx lkê á8ê2ê#êcl , öwcl 6êáêélt2ê8ú jöoctóy áwöê6têc wx lkê úêj# .']]\n"
          ]
        }
      ],
      "source": [
        "for x in open('./dev_enc.tsv', encoding='utf-8'):\n",
        "    x = x.rstrip('\\n\\r').split('\\t')\n",
        "    # x[0] will be the label (0 or 1), and x[1] will be the ciphertext sentence.\n",
        "    x[0] = int(x[0]) \n",
        "    dev.append(x)\n",
        "print (len(dev))\n",
        "print (dev[:3])"
      ]
    },
    {
      "cell_type": "markdown",
      "metadata": {
        "id": "jxFq7Ahprhi-"
      },
      "source": [
        "#### Different from 'train' and 'dev' that are both list of tuples, 'test' will be just a list."
      ]
    },
    {
      "cell_type": "code",
      "execution_count": 4,
      "metadata": {
        "colab": {
          "base_uri": "https://localhost:8080/"
        },
        "id": "5mS2DIoKrhi-",
        "outputId": "f72c77bd-413a-488f-d62d-3d2363bf3a81"
      },
      "outputs": [
        {
          "output_type": "stream",
          "name": "stdout",
          "text": [
            "2028\n",
            "['j 6t6jáltá jó6 6o88 6wáoöêólj#ú y8w#txútóy cwxlüj#ê jój#ákú .', 'ówlktóy cltámc , #êj88ú , ê+áêél j 8tóyê#tóy á#êêétóêcc wóê xêê8c x#wö Úêtóy 6#jyyê6 lk#woyk j cj6 , cw#6t6 oót2ê#cê wx yoóc , 6#oyc , j2j#táê jó6 6jöjyê6 6#êjöc .', 'öo#ékú jó6 üt8cwó jáloj88ú öjmê j é#êllú yww6 lêjö <<< Úol lkê é#wvêál co##woó6tóy lkêö tc 6tcl#êcctóy8ú #wlê .']\n"
          ]
        }
      ],
      "source": [
        "for x in open('./test_enc_unlabeled.tsv', encoding='utf-8'):\n",
        "    x = x.rstrip('\\n\\r')\n",
        "    test.append(x)\n",
        "print (len(test))\n",
        "print (test[:3])"
      ]
    },
    {
      "cell_type": "markdown",
      "metadata": {
        "id": "jTxQx30jrhjA"
      },
      "source": [
        "#### You can split every sentence into lists of words by white spaces."
      ]
    },
    {
      "cell_type": "code",
      "execution_count": 5,
      "metadata": {
        "id": "4XGl8U33rhjB"
      },
      "outputs": [],
      "source": [
        "train_split = [[x[0], x[1].split(' ')] for x in train]\n",
        "dev_split = [[x[0], x[1].split(' ')] for x in dev]\n",
        "test_split = [[x.split(' ')] for x in test]"
      ]
    },
    {
      "cell_type": "markdown",
      "metadata": {
        "id": "YroHMzl-rhjC"
      },
      "source": [
        "### Main Code Body"
      ]
    },
    {
      "cell_type": "markdown",
      "metadata": {
        "id": "hiYXq1aOrhjD"
      },
      "source": [
        "You may choose to experiment with different methods using your program. However, you need to embed the training and inference processes at here. We will use your prediction on the unlabeled test data to grade, while checking this part to understand how your method has produced the predictions."
      ]
    },
    {
      "cell_type": "code",
      "source": [
        "#Convert to DataFrame\n",
        "\n",
        "import pandas as pd\n",
        "train_frame = pd.DataFrame(train, columns = ['class', 'text'])\n",
        "dev_frame = pd.DataFrame(dev, columns = ['class', 'text'])\n",
        "test_frame = pd.DataFrame(test, columns = ['text'])"
      ],
      "metadata": {
        "id": "xS-VuqOlq-DJ"
      },
      "execution_count": 6,
      "outputs": []
    },
    {
      "cell_type": "code",
      "source": [
        "#Training Word Embdding \n",
        "\n",
        "from gensim.models.fasttext import FastText\n",
        "word_token = []\n",
        "for word_list in train_split:\n",
        "  word_token.append(word_list[1])\n",
        "\n",
        "embedding_size = 300\n",
        "window_size = 5\n",
        "down_sampling = 1e-2\n",
        "\n",
        "\n",
        "fast_Text_model = FastText(word_token,\n",
        "                      size=embedding_size,\n",
        "                      window=window_size,\n",
        "                      sample=down_sampling,\n",
        "                      workers = 4,\n",
        "                      sg=1,\n",
        "                      iter=100)\n"
      ],
      "metadata": {
        "id": "wWkNe1nftfNr"
      },
      "execution_count": 7,
      "outputs": []
    },
    {
      "cell_type": "code",
      "source": [
        "#Vocab\n",
        "vocab_words = list(fast_Text_model.wv.vocab)\n",
        "vocab_size = len(vocab_words) +1\n",
        "print(len(vocab_words))"
      ],
      "metadata": {
        "colab": {
          "base_uri": "https://localhost:8080/"
        },
        "id": "fj2ZJHFFZDCs",
        "outputId": "9924f3a3-0566-4b89-d0a7-d176db846636"
      },
      "execution_count": 8,
      "outputs": [
        {
          "output_type": "stream",
          "name": "stdout",
          "text": [
            "6080\n"
          ]
        }
      ]
    },
    {
      "cell_type": "code",
      "source": [
        "#saving embedding\n",
        "\n",
        "filename = 'embedding_fasttxt.txt'\n",
        "fast_Text_model.wv.save_word2vec_format(filename, binary=False)"
      ],
      "metadata": {
        "id": "CWYSC2CypeO_"
      },
      "execution_count": 9,
      "outputs": []
    },
    {
      "cell_type": "code",
      "source": [
        "#Text Processing\n",
        "\n",
        "from keras.preprocessing.text import Tokenizer\n",
        "from keras.preprocessing.sequence import pad_sequences\n",
        "\n",
        "tokenizer = Tokenizer(num_words = vocab_size, filters='\",.;@^_`{|}~\\t\\n' ) #; ` exist in dataset\n",
        "tokenizer.fit_on_texts(train_frame['text'].values)\n",
        "\n",
        "x_train = tokenizer.texts_to_sequences(train_frame['text'].values)\n",
        "x_train = pad_sequences(x_train, padding = 'post' ,maxlen=65)\n",
        "y_train = pd.get_dummies(train_frame['class']).values\n",
        "\n",
        "\n",
        "x_d = tokenizer.texts_to_sequences(dev_frame['text'].values)\n",
        "x_d = pad_sequences(x_d, padding = 'post' ,maxlen=65)\n",
        "y_d = pd.get_dummies(dev_frame['class']).values\n"
      ],
      "metadata": {
        "id": "wsv7cmHyyRqj"
      },
      "execution_count": 10,
      "outputs": []
    },
    {
      "cell_type": "code",
      "source": [
        "#Creating Embedding Matrix\n",
        "from tqdm import tqdm\n",
        "import numpy as np\n",
        "\n",
        "embedding_vector = {}\n",
        "f = open('embedding_fasttxt.txt')\n",
        "for line in tqdm(f):\n",
        "    value = line.split(' ')\n",
        "    word = value[0]\n",
        "    coef = np.array(value[1:],dtype = 'float32')\n",
        "    embedding_vector[word] = coef\n",
        "\n",
        "embedding_matrix = np.zeros((vocab_size,300))\n",
        "for word,i in tqdm(tokenizer.word_index.items()):\n",
        "    #print(word,i)\n",
        "    embedding_value = embedding_vector.get(word)\n",
        "    if embedding_value is not None:\n",
        "        embedding_matrix[i] = embedding_value"
      ],
      "metadata": {
        "colab": {
          "base_uri": "https://localhost:8080/"
        },
        "id": "Wg-2dCYKp0Hr",
        "outputId": "9e5455f6-0906-477f-f982-12649d1ce4d9"
      },
      "execution_count": 11,
      "outputs": [
        {
          "output_type": "stream",
          "name": "stderr",
          "text": [
            "6081it [00:00, 11951.56it/s]\n",
            "100%|██████████| 20826/20826 [00:00<00:00, 841689.87it/s]\n"
          ]
        }
      ]
    },
    {
      "cell_type": "code",
      "source": [
        "# from sklearn.model_selection import train_test_split\n",
        "# x_dev, x_test, y_dev, y_test = train_test_split(x_d,y_d, test_size = 0.5, random_state = 42)\n"
      ],
      "metadata": {
        "id": "dD5fB7LE1iDS"
      },
      "execution_count": 12,
      "outputs": []
    },
    {
      "cell_type": "code",
      "source": [
        "embedding_matrix.shape"
      ],
      "metadata": {
        "id": "et_aQ3c7zrEN",
        "colab": {
          "base_uri": "https://localhost:8080/"
        },
        "outputId": "30c47c7a-3287-498d-da43-5274d9296233"
      },
      "execution_count": 13,
      "outputs": [
        {
          "output_type": "execute_result",
          "data": {
            "text/plain": [
              "(6081, 300)"
            ]
          },
          "metadata": {},
          "execution_count": 13
        }
      ]
    },
    {
      "cell_type": "code",
      "source": [
        "import tensorflow as tf\n",
        "import keras\n",
        "from keras.layers import Dense, Embedding, LSTM, SpatialDropout1D, Bidirectional, Dropout"
      ],
      "metadata": {
        "id": "qmlFix_VvX1-"
      },
      "execution_count": 14,
      "outputs": []
    },
    {
      "cell_type": "code",
      "source": [
        "embid_dim = 300\n",
        "lstm_out = 128\n",
        "\n",
        "model = keras.Sequential()\n",
        "model.add(Embedding(vocab_size, embid_dim, input_length =x_train.shape[1], weights = [embedding_matrix]))\n",
        "model.add(Bidirectional(LSTM(lstm_out, dropout=0.2)))\n",
        "model.add(Dense(128, activation = 'relu'))\n",
        "model.add(Dropout(0.5))\n",
        "model.add(Dense(64, activation = 'relu'))\n",
        "model.add(Dense(2, activation = 'softmax'))\n",
        "model.summary()"
      ],
      "metadata": {
        "id": "5oo7kg7DvXzT",
        "colab": {
          "base_uri": "https://localhost:8080/"
        },
        "outputId": "9dcd22cb-628d-4e82-b768-f22dbb8ef482"
      },
      "execution_count": 42,
      "outputs": [
        {
          "output_type": "stream",
          "name": "stdout",
          "text": [
            "Model: \"sequential_3\"\n",
            "_________________________________________________________________\n",
            " Layer (type)                Output Shape              Param #   \n",
            "=================================================================\n",
            " embedding_3 (Embedding)     (None, 65, 300)           1824300   \n",
            "                                                                 \n",
            " bidirectional_3 (Bidirectio  (None, 256)              439296    \n",
            " nal)                                                            \n",
            "                                                                 \n",
            " dense_9 (Dense)             (None, 128)               32896     \n",
            "                                                                 \n",
            " dropout_3 (Dropout)         (None, 128)               0         \n",
            "                                                                 \n",
            " dense_10 (Dense)            (None, 64)                8256      \n",
            "                                                                 \n",
            " dense_11 (Dense)            (None, 2)                 130       \n",
            "                                                                 \n",
            "=================================================================\n",
            "Total params: 2,304,878\n",
            "Trainable params: 2,304,878\n",
            "Non-trainable params: 0\n",
            "_________________________________________________________________\n"
          ]
        }
      ]
    },
    {
      "cell_type": "code",
      "source": [
        "batch_size = 128\n",
        "model.compile(loss = 'categorical_crossentropy', optimizer='adam',metrics = ['accuracy'])\n",
        "history = model.fit(x_train, y_train, epochs = 8, batch_size=batch_size, verbose = 1, validation_data =(x_d, y_d))"
      ],
      "metadata": {
        "id": "E5OXGBdmvXqB",
        "colab": {
          "base_uri": "https://localhost:8080/"
        },
        "outputId": "928b696e-3240-4c95-ba03-99282615bcf6"
      },
      "execution_count": 43,
      "outputs": [
        {
          "output_type": "stream",
          "name": "stdout",
          "text": [
            "Epoch 1/8\n",
            "127/127 [==============================] - 114s 863ms/step - loss: 0.5375 - accuracy: 0.7218 - val_loss: 0.4033 - val_accuracy: 0.8189\n",
            "Epoch 2/8\n",
            "127/127 [==============================] - 102s 804ms/step - loss: 0.3777 - accuracy: 0.8334 - val_loss: 0.3617 - val_accuracy: 0.8451\n",
            "Epoch 3/8\n",
            "127/127 [==============================] - 102s 802ms/step - loss: 0.3011 - accuracy: 0.8724 - val_loss: 0.3713 - val_accuracy: 0.8367\n",
            "Epoch 4/8\n",
            "127/127 [==============================] - 102s 805ms/step - loss: 0.2485 - accuracy: 0.8956 - val_loss: 0.3588 - val_accuracy: 0.8594\n",
            "Epoch 5/8\n",
            "127/127 [==============================] - 102s 799ms/step - loss: 0.2026 - accuracy: 0.9182 - val_loss: 0.3823 - val_accuracy: 0.8673\n",
            "Epoch 6/8\n",
            "127/127 [==============================] - 101s 792ms/step - loss: 0.1695 - accuracy: 0.9301 - val_loss: 0.3958 - val_accuracy: 0.8796\n",
            "Epoch 7/8\n",
            "127/127 [==============================] - 101s 795ms/step - loss: 0.1389 - accuracy: 0.9432 - val_loss: 0.3719 - val_accuracy: 0.8757\n",
            "Epoch 8/8\n",
            "127/127 [==============================] - 100s 789ms/step - loss: 0.1223 - accuracy: 0.9515 - val_loss: 0.4444 - val_accuracy: 0.8767\n"
          ]
        }
      ]
    },
    {
      "cell_type": "code",
      "source": [
        "#Printing FINAL OUTPUT\n",
        "X_test = tokenizer.texts_to_sequences(test_frame['text'].values)\n",
        "X_test = pad_sequences(X_test, padding = 'post' ,maxlen=65)\n",
        "y_pred = model.predict(X_test, verbose=1)\n",
        "y_pred_final = np.argmax(y_pred, axis=1)"
      ],
      "metadata": {
        "id": "GI0JY0G1-S4h",
        "colab": {
          "base_uri": "https://localhost:8080/"
        },
        "outputId": "d8e028ab-f653-4551-ca18-df409c2a20a2"
      },
      "execution_count": 46,
      "outputs": [
        {
          "output_type": "stream",
          "name": "stdout",
          "text": [
            "64/64 [==============================] - 6s 72ms/step\n"
          ]
        }
      ]
    },
    {
      "cell_type": "code",
      "source": [
        "# y_pred = model.predict(x_test, verbose=1)\n",
        "\n",
        "# y_test_f = np.argmax(y_test, axis=1)\n",
        "# print(y_test_f)\n",
        "\n",
        "\n",
        "# y_pred_f = np.argmax(y_pred, axis=1)\n",
        "# print(y_pred_f)\n",
        "\n",
        "# from sklearn.metrics import confusion_matrix\n",
        "# from sklearn.metrics import accuracy_score\n",
        "# print(confusion_matrix(y_test_f, y_pred_f))\n",
        "# print(accuracy_score(y_test_f, y_pred_f))"
      ],
      "metadata": {
        "colab": {
          "base_uri": "https://localhost:8080/"
        },
        "id": "SLaxcycQ8Rfo",
        "outputId": "a37ed130-99bc-4641-843a-030afd62e998"
      },
      "execution_count": 27,
      "outputs": [
        {
          "output_type": "stream",
          "name": "stdout",
          "text": [
            "32/32 [==============================] - 3s 76ms/step\n",
            "[1 0 1 ... 0 1 1]\n",
            "[1 0 1 ... 0 1 0]\n",
            "[[407  65]\n",
            " [ 62 480]]\n",
            "0.8747534516765286\n"
          ]
        }
      ]
    },
    {
      "cell_type": "code",
      "source": [
        "import keras\n",
        "from matplotlib import pyplot as plt\n",
        "plt.plot(history.history['accuracy'])\n",
        "plt.plot(history.history['val_accuracy'])\n",
        "plt.title('model accuracy')\n",
        "plt.ylabel('accuracy')\n",
        "plt.xlabel('epoch')\n",
        "plt.legend(['train', 'val'], loc='upper left')\n",
        "plt.show()"
      ],
      "metadata": {
        "id": "0k4jo35F4M8q"
      },
      "execution_count": null,
      "outputs": []
    },
    {
      "cell_type": "code",
      "source": [
        "plt.plot(history.history['loss'])\n",
        "plt.plot(history.history['val_loss'])\n",
        "plt.title('model loss')\n",
        "plt.ylabel('loss')\n",
        "plt.xlabel('epoch')\n",
        "plt.legend(['train', 'val'], loc='upper left')\n",
        "plt.show()"
      ],
      "metadata": {
        "id": "nMnravKR4QC5"
      },
      "execution_count": null,
      "outputs": []
    },
    {
      "cell_type": "code",
      "execution_count": 58,
      "metadata": {
        "id": "oTfwotK0rhjD"
      },
      "outputs": [],
      "source": [
        "# Eventually, results need to be a list of 2028 0 or 1's\n",
        "results = []\n",
        "results = y_pred_final"
      ]
    },
    {
      "cell_type": "markdown",
      "metadata": {
        "id": "x4jwv3IErhjE"
      },
      "source": [
        "### Output Prediction Result File"
      ]
    },
    {
      "cell_type": "markdown",
      "metadata": {
        "id": "x7Ildp_crhjE"
      },
      "source": [
        "You will need to submit a prediction result file. It should have 2028 lines, every line should be either 0 or 1, which is your model's prediction on the respective test set instance."
      ]
    },
    {
      "cell_type": "code",
      "execution_count": 59,
      "metadata": {
        "id": "4tsbIVvxrhjF"
      },
      "outputs": [],
      "source": [
        "# suppose you had your model's predictions on the 2028 test cases read from test_enc_unlabeled.tsv, and \n",
        "#those results are in the list called 'results'\n",
        "assert (len(results) == 2028)"
      ]
    },
    {
      "cell_type": "code",
      "execution_count": 60,
      "metadata": {
        "id": "lE324EYxrhjF"
      },
      "outputs": [],
      "source": [
        "# make sure the results are not float numbers, but intergers 0 and 1\n",
        "results = [int(x) for x in results]"
      ]
    },
    {
      "cell_type": "code",
      "execution_count": 65,
      "metadata": {
        "id": "EpWMtb0brhjF"
      },
      "outputs": [],
      "source": [
        "# write your prediction results to 'upload_predictions.txt' and upload that later\n",
        "with open('upload_predictions.txt', 'w', encoding = 'utf-8') as fp:\n",
        "    for x in results:\n",
        "        fp.write(str(x) + '\\n')"
      ]
    },
    {
      "cell_type": "code",
      "source": [
        ""
      ],
      "metadata": {
        "id": "7ih2UbSoMv0-"
      },
      "execution_count": null,
      "outputs": []
    }
  ],
  "metadata": {
    "kernelspec": {
      "display_name": "Python 3 (ipykernel)",
      "language": "python",
      "name": "python3"
    },
    "language_info": {
      "codemirror_mode": {
        "name": "ipython",
        "version": 3
      },
      "file_extension": ".py",
      "mimetype": "text/x-python",
      "name": "python",
      "nbconvert_exporter": "python",
      "pygments_lexer": "ipython3",
      "version": "3.7.11"
    },
    "colab": {
      "name": "main.ipynb",
      "provenance": []
    }
  },
  "nbformat": 4,
  "nbformat_minor": 0
}